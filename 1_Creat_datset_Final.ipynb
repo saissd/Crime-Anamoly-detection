{
 "cells": [
  {
   "cell_type": "markdown",
   "metadata": {},
   "source": [
    "# Create Video Files List"
   ]
  },
  {
   "cell_type": "code",
   "execution_count": 1,
   "metadata": {},
   "outputs": [],
   "source": [
    "import os\n",
    "import csv\n",
    "import shutil"
   ]
  },
  {
   "cell_type": "code",
   "execution_count": 2,
   "metadata": {},
   "outputs": [],
   "source": [
    "dest_path = os.path.join('input/train')\n",
    "labels = os.listdir(dest_path)"
   ]
  },
  {
   "cell_type": "code",
   "execution_count": 3,
   "metadata": {},
   "outputs": [
    {
     "name": "stdout",
     "output_type": "stream",
     "text": [
      "['Arson', 'Burglary', 'Explosion', 'Fighting', 'Normal']\n"
     ]
    }
   ],
   "source": [
    "print(labels)"
   ]
  },
  {
   "cell_type": "code",
   "execution_count": 4,
   "metadata": {},
   "outputs": [
    {
     "name": "stdout",
     "output_type": "stream",
     "text": [
      "Video Files List Created Sucessfully....\n"
     ]
    }
   ],
   "source": [
    "#Reading video files from each folder and writing its path in text file\n",
    "\n",
    "for fol in labels:\n",
    "    new=os.path.join(dest_path,fol)\n",
    "    for i in os.listdir(new):\n",
    "        with open('train_path.txt', 'a') as w:\n",
    "            if fol=='Arson':\n",
    "                n=0\n",
    "            elif fol=='Burglary':\n",
    "                n=1\n",
    "            elif fol=='Explosion':\n",
    "                n=2\n",
    "            elif fol=='Fighting':\n",
    "                n=3\n",
    "            elif fol=='Normal':\n",
    "                n=4\n",
    "                \n",
    "            w.write(dest_path+'/'+fol+'/'+i+' '+str(n)+'|')\n",
    "        \n",
    "print(\"Video Files List Created Sucessfully....\")"
   ]
  },
  {
   "cell_type": "markdown",
   "metadata": {},
   "source": [
    "# Thank You..."
   ]
  },
  {
   "cell_type": "code",
   "execution_count": null,
   "metadata": {},
   "outputs": [],
   "source": []
  }
 ],
 "metadata": {
  "kernelspec": {
   "display_name": "Python 3",
   "language": "python",
   "name": "python3"
  },
  "language_info": {
   "codemirror_mode": {
    "name": "ipython",
    "version": 3
   },
   "file_extension": ".py",
   "mimetype": "text/x-python",
   "name": "python",
   "nbconvert_exporter": "python",
   "pygments_lexer": "ipython3",
   "version": "3.8.3"
  }
 },
 "nbformat": 4,
 "nbformat_minor": 2
}
